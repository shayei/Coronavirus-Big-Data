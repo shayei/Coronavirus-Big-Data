{
 "cells": [
  {
   "cell_type": "code",
   "execution_count": 6,
   "metadata": {},
   "outputs": [],
   "source": [
    "import findspark"
   ]
  },
  {
   "cell_type": "code",
   "execution_count": 7,
   "metadata": {},
   "outputs": [],
   "source": [
    "findspark.init('/home/shayei/spark-3.0.0-preview2-bin-hadoop2.7')"
   ]
  },
  {
   "cell_type": "code",
   "execution_count": 8,
   "metadata": {},
   "outputs": [],
   "source": [
    "import pyspark"
   ]
  },
  {
   "cell_type": "code",
   "execution_count": 9,
   "metadata": {},
   "outputs": [],
   "source": [
    "from pyspark import SparkContext"
   ]
  },
  {
   "cell_type": "code",
   "execution_count": 10,
   "metadata": {},
   "outputs": [],
   "source": [
    "from pyspark.sql import SparkSession"
   ]
  },
  {
   "cell_type": "code",
   "execution_count": 11,
   "metadata": {},
   "outputs": [],
   "source": [
    "spark= SparkSession.builder.appName('CoronaApp').getOrCreate()"
   ]
  },
  {
   "cell_type": "code",
   "execution_count": 12,
   "metadata": {},
   "outputs": [],
   "source": [
    "df= spark.read.csv('COVID-19_cases.csv', inferSchema=True,header=True)"
   ]
  },
  {
   "cell_type": "code",
   "execution_count": 15,
   "metadata": {},
   "outputs": [
    {
     "name": "stdout",
     "output_type": "stream",
     "text": [
      "root\n",
      " |-- dateRep: string (nullable = true)\n",
      " |-- day: integer (nullable = true)\n",
      " |-- month: integer (nullable = true)\n",
      " |-- year: integer (nullable = true)\n",
      " |-- cases: integer (nullable = true)\n",
      " |-- deaths: integer (nullable = true)\n",
      " |-- countriesAndTerritories: string (nullable = true)\n",
      " |-- geoId: string (nullable = true)\n",
      " |-- countryterritoryCode: string (nullable = true)\n",
      " |-- popData2018: integer (nullable = true)\n",
      "\n",
      "+----------+----------+-----------+\n",
      "|      Date|sum(cases)|sum(deaths)|\n",
      "+----------+----------+-----------+\n",
      "|07/04/2020|     71392|       5137|\n",
      "|06/04/2020|     71238|       4655|\n",
      "|05/04/2020|     86707|       6115|\n",
      "|04/04/2020|     81884|       6604|\n",
      "|03/04/2020|     77337|       4672|\n",
      "|02/04/2020|     77122|       4998|\n",
      "|01/04/2020|     73512|       4614|\n",
      "|31/03/2020|     62443|       3697|\n",
      "|30/03/2020|     58487|       3125|\n",
      "|29/03/2020|     65162|       3461|\n",
      "|28/03/2020|     63937|       3318|\n",
      "|27/03/2020|     59718|       2681|\n",
      "|26/03/2020|     51204|       2426|\n",
      "|25/03/2020|     38927|       2200|\n",
      "|24/03/2020|     39785|       1764|\n",
      "|23/03/2020|     33016|       1660|\n",
      "|22/03/2020|     34011|       1690|\n",
      "|21/03/2020|     28742|       1366|\n",
      "|20/03/2020|     29214|       1041|\n",
      "|19/03/2020|     18314|        951|\n",
      "+----------+----------+-----------+\n",
      "only showing top 20 rows\n",
      "\n"
     ]
    }
   ],
   "source": [
    "## create dataframe- corona virus cases & deaths every day\n",
    "\n",
    "from pyspark.sql.functions import col\n",
    "\n",
    "df.printSchema()\n",
    "corona_daily = df.select('dateRep','countriesAndTerritories', 'cases', 'deaths')\n",
    "#df2.printSchema()\n",
    "corona_daily= corona_daily.groupBy('dateRep').sum()\n",
    "corona_daily = corona_daily.withColumnRenamed(\"dateRep\", \"Date\")\n",
    "corona_daily.show()\n"
   ]
  },
  {
   "cell_type": "code",
   "execution_count": 16,
   "metadata": {
    "scrolled": true
   },
   "outputs": [
    {
     "name": "stdout",
     "output_type": "stream",
     "text": [
      "root\n",
      " |-- countriesAndTerritories: string (nullable = true)\n",
      " |-- sum(cases): long (nullable = true)\n",
      " |-- sum(deaths): long (nullable = true)\n",
      "\n",
      "+-----------------------+----------+-----------+\n",
      "|countriesAndTerritories|sum(cases)|sum(deaths)|\n",
      "+-----------------------+----------+-----------+\n",
      "|   United_States_of_...|    368196|      10989|\n",
      "|                  Spain|    135032|      13055|\n",
      "|                  Italy|    132547|      16525|\n",
      "|                Germany|     99225|       1607|\n",
      "|                  China|     82698|       3335|\n",
      "|                 France|     74390|       8911|\n",
      "|                   Iran|     60500|       3739|\n",
      "|         United_Kingdom|     51608|       5373|\n",
      "|                 Turkey|     30217|        649|\n",
      "|            Switzerland|     21574|        584|\n",
      "|                Belgium|     20814|       1632|\n",
      "|            Netherlands|     18803|       1867|\n",
      "|                 Canada|     16653|        323|\n",
      "|                Austria|     12297|        220|\n",
      "|                 Brazil|     12056|        553|\n",
      "|               Portugal|     11730|        311|\n",
      "|            South_Korea|     10331|        192|\n",
      "|                 Israel|      8904|         57|\n",
      "|                 Sweden|      7206|        477|\n",
      "|                 Russia|      6343|         47|\n",
      "+-----------------------+----------+-----------+\n",
      "only showing top 20 rows\n",
      "\n",
      "root\n",
      " |-- countriesAndTerritories: string (nullable = true)\n",
      " |-- sum(cases): long (nullable = true)\n",
      " |-- sum(deaths): long (nullable = true)\n",
      "\n"
     ]
    }
   ],
   "source": [
    "## create dataframe- total corona virus cases & deaths for each country\n",
    "\n",
    "df= df.select('countriesAndTerritories', 'cases', 'deaths')\n",
    "df= df.groupBy('countriesAndTerritories').sum()\n",
    "df.printSchema()\n",
    "df1= df.orderBy(df['sum(cases)'].desc()).show()\n",
    "df.printSchema()\n"
   ]
  },
  {
   "cell_type": "code",
   "execution_count": 17,
   "metadata": {},
   "outputs": [],
   "source": [
    "# Save results \n",
    "# df.write.option(\"header\", \"true\").csv('coronaByCountry.csv')"
   ]
  },
  {
   "cell_type": "code",
   "execution_count": 18,
   "metadata": {},
   "outputs": [
    {
     "name": "stdout",
     "output_type": "stream",
     "text": [
      "+----------+----------+-----------+\n",
      "|      Date|sum(cases)|sum(deaths)|\n",
      "+----------+----------+-----------+\n",
      "|2020-04-07|     71392|       5137|\n",
      "|2020-04-06|     71238|       4655|\n",
      "|2020-04-05|     86707|       6115|\n",
      "|2020-04-04|     81884|       6604|\n",
      "|2020-04-03|     77337|       4672|\n",
      "|2020-04-02|     77122|       4998|\n",
      "|2020-04-01|     73512|       4614|\n",
      "|2020-03-31|     62443|       3697|\n",
      "|2020-03-30|     58487|       3125|\n",
      "|2020-03-29|     65162|       3461|\n",
      "|2020-03-28|     63937|       3318|\n",
      "|2020-03-27|     59718|       2681|\n",
      "|2020-03-26|     51204|       2426|\n",
      "|2020-03-25|     38927|       2200|\n",
      "|2020-03-24|     39785|       1764|\n",
      "|2020-03-23|     33016|       1660|\n",
      "|2020-03-22|     34011|       1690|\n",
      "|2020-03-21|     28742|       1366|\n",
      "|2020-03-20|     29214|       1041|\n",
      "|2020-03-19|     18314|        951|\n",
      "+----------+----------+-----------+\n",
      "only showing top 20 rows\n",
      "\n",
      "root\n",
      " |-- Date: date (nullable = true)\n",
      " |-- sum(cases): long (nullable = true)\n",
      " |-- sum(deaths): long (nullable = true)\n",
      "\n"
     ]
    }
   ],
   "source": [
    "# convert date format\n",
    "from datetime import datetime\n",
    "from pyspark.sql.functions import col, udf\n",
    "from pyspark.sql.types import DateType\n",
    "\n",
    "func =  udf (lambda x: datetime.strptime(x, '%d/%m/%Y'), DateType())\n",
    "\n",
    "corona_daily = corona_daily.withColumn('Date', func(col('Date')))\n",
    "\n",
    "corona_daily.show()\n",
    "\n",
    "corona_daily.printSchema()"
   ]
  },
  {
   "cell_type": "markdown",
   "metadata": {},
   "source": [
    "### American Airlines stock"
   ]
  },
  {
   "cell_type": "code",
   "execution_count": 22,
   "metadata": {},
   "outputs": [],
   "source": [
    "from pyspark.sql.functions import format_number\n",
    "from pyspark.sql.types import FloatType"
   ]
  },
  {
   "cell_type": "code",
   "execution_count": 23,
   "metadata": {},
   "outputs": [],
   "source": [
    "import matplotlib.pyplot as plt\n",
    "import numpy as np\n",
    "import matplotlib.dates as mdates\n",
    "import pandas as pd\n",
    "%matplotlib inline"
   ]
  },
  {
   "cell_type": "code",
   "execution_count": 24,
   "metadata": {
    "scrolled": true
   },
   "outputs": [],
   "source": [
    "import datetime\n"
   ]
  },
  {
   "cell_type": "code",
   "execution_count": 25,
   "metadata": {},
   "outputs": [],
   "source": [
    "import os\n",
    "import warnings\n",
    "warnings.filterwarnings('ignore')\n",
    "import numpy as np\n",
    "import pandas as pd\n",
    "import matplotlib.pyplot as plt\n",
    "plt.style.use('fivethirtyeight')\n",
    "from pylab import rcParams\n",
    "rcParams['figure.figsize'] = 10, 6\n",
    "from statsmodels.tsa.stattools import adfuller\n",
    "from statsmodels.tsa.seasonal import seasonal_decompose\n",
    "from statsmodels.tsa.arima_model import ARIMA\n",
    "from pmdarima.arima import auto_arima\n",
    "from sklearn.metrics import mean_squared_error, mean_absolute_error\n",
    "import math\n",
    "import numpy as np"
   ]
  },
  {
   "cell_type": "code",
   "execution_count": 26,
   "metadata": {},
   "outputs": [],
   "source": [
    "dateparse = lambda dates: pd.datetime.strptime(dates, '%Y-%m-%d')\n",
    "AAL_df = pd.read_csv('AAL.csv',sep=',', index_col='Date', parse_dates=['Date'], date_parser=dateparse).fillna(0)\n",
    "#data= pd.read_csv('AAL.csv', inferSchema=True,header=True)"
   ]
  },
  {
   "cell_type": "code",
   "execution_count": 27,
   "metadata": {
    "scrolled": false
   },
   "outputs": [
    {
     "data": {
      "image/png": "[encoded data removed]",
      "text/plain": [
       "<Figure size 720x432 with 1 Axes>"
      ]
     },
     "metadata": {},
     "output_type": "display_data"
    }
   ],
   "source": [
    "#plot close price\n",
    "plt.figure(figsize=(10,6))\n",
    "plt.grid(True)\n",
    "plt.xlabel('Dates')\n",
    "plt.ylabel('Close Prices')\n",
    "plt.plot(AAL_df['Close'])\n",
    "plt.title('American Airlines stock')\n",
    "plt.show()"
   ]
  },
  {
   "cell_type": "markdown",
   "metadata": {},
   "source": [
    "המשבר שמטביע את תעשיית התעופה העולמית מחריף. \n",
    "אמריקן איירליינס הודיעו על ירידה צפויה בהכנסות, קיצוצים חדים בטיסותיהן ומהלכי חירום נוספים. זאת, במטרה לצמצם את נזקי נגיף הקורונה שמדלל באופן דרסטי את תנועתה נוסעים העולמית.\n",
    "נכון ל־2019, אמריקן איירליינס היא חברת התעופה הגדולה בעולם עם צי של 956 מטוסים. "
   ]
  },
  {
   "cell_type": "markdown",
   "metadata": {},
   "source": [
    "### Cases & Deaths by country"
   ]
  },
  {
   "cell_type": "code",
   "execution_count": 28,
   "metadata": {},
   "outputs": [
    {
     "name": "stdout",
     "output_type": "stream",
     "text": [
      "    countriesAndTerritories  sum(cases)  sum(deaths)\n",
      "0               Afghanistan         337            7\n",
      "1                   Albania         377           22\n",
      "2                   Andorra         526           21\n",
      "3                   Algeria        1423          173\n",
      "4                    Angola          16            2\n",
      "..                      ...         ...          ...\n",
      "199              Uzbekistan         397            2\n",
      "200               Venezuela         159            5\n",
      "201                 Vietnam         245            0\n",
      "202                  Zambia          39            1\n",
      "203                Zimbabwe           9            1\n",
      "\n",
      "[204 rows x 3 columns]\n",
      "countriesAndTerritories    object\n",
      "sum(cases)                  int64\n",
      "sum(deaths)                 int64\n",
      "dtype: object\n",
      "      countriesAndTerritories  sum(cases)  sum(deaths)\n",
      "74                    Germany       99225         1607\n",
      "97                     Israel        8904           57\n",
      "98                      Italy      132547        16525\n",
      "176                     Spain      135032        13055\n",
      "196  United_States_of_America      368196        10989\n"
     ]
    },
    {
     "data": {
      "image/png": "[encoded data removed]",
      "text/plain": [
       "<Figure size 1080x720 with 1 Axes>"
      ]
     },
     "metadata": {},
     "output_type": "display_data"
    }
   ],
   "source": [
    "\n",
    "index = ('Germany', 'Israel', 'Italy', 'Spain', 'USA')\n",
    "\n",
    "df2= pd.read_csv('coronaByCountry.csv')\n",
    "print(df2)\n",
    "print(df2.dtypes)\n",
    "i= df2[df2['countriesAndTerritories'].str.contains(\"United_States_of_America\") | df2['countriesAndTerritories'].str.contains(\"Italy\") | df2['countriesAndTerritories'].str.contains(\"Israel\") | df2['countriesAndTerritories'].str.contains(\"Spain\") | df2['countriesAndTerritories'].str.contains(\"Germany\")]\n",
    "print(i)\n",
    "\n",
    "\n",
    "ax = i[['sum(cases)','sum(deaths)']].plot(kind='bar', title =\"Cases vs Deaths\", figsize=(15, 10), legend=True, fontsize=14)\n",
    "y_pos= np.arange(len(index))\n",
    "ax.set_xlabel('Countires')\n",
    "ax.set_ylabel('people')\n",
    "\n",
    "ax.set_xticklabels(index, rotation=0, fontsize=20)\n",
    "plt.show()\n"
   ]
  },
  {
   "cell_type": "markdown",
   "metadata": {},
   "source": [
    "### WTI stock"
   ]
  },
  {
   "cell_type": "code",
   "execution_count": 29,
   "metadata": {
    "scrolled": true
   },
   "outputs": [
    {
     "name": "stdout",
     "output_type": "stream",
     "text": [
      "+----------+-----+\n",
      "|      Date|Price|\n",
      "+----------+-----+\n",
      "|2020-01-02|61.17|\n",
      "|2020-01-03| 63.0|\n",
      "|2020-01-06|63.27|\n",
      "|2020-01-07| 62.7|\n",
      "|2020-01-08|59.65|\n",
      "|2020-01-09|59.56|\n",
      "|2020-01-10|59.02|\n",
      "|2020-01-13|58.17|\n",
      "|2020-01-14|58.34|\n",
      "|2020-01-15|57.86|\n",
      "|2020-01-16|58.52|\n",
      "|2020-01-17|58.55|\n",
      "|2020-01-21|58.25|\n",
      "|2020-01-22|56.76|\n",
      "|2020-01-23|55.51|\n",
      "|2020-01-24|54.09|\n",
      "|2020-01-27|53.09|\n",
      "|2020-01-28|53.33|\n",
      "|2020-01-29|53.29|\n",
      "|2020-01-30|52.19|\n",
      "+----------+-----+\n",
      "only showing top 20 rows\n",
      "\n"
     ]
    }
   ],
   "source": [
    "df3= spark.read.csv('wti_daily_csv.csv', inferSchema=True,header=True)\n",
    "df3= df3.filter(df3[\"Date\"].contains(\"2020\"))\n",
    "df3.show()\n",
    "#df3.write.option(\"header\", \"true\").csv('wti_daily_2020.csv')"
   ]
  },
  {
   "cell_type": "code",
   "execution_count": 30,
   "metadata": {
    "scrolled": true
   },
   "outputs": [
    {
     "data": {
      "image/png": "[encoded data removed]",
      "text/plain": [
       "<Figure size 720x432 with 1 Axes>"
      ]
     },
     "metadata": {},
     "output_type": "display_data"
    }
   ],
   "source": [
    "dateparse = lambda dates: pd.datetime.strptime(dates, '%Y-%m-%d')\n",
    "wti = pd.read_csv('wti_daily_2020.csv',sep=',', index_col='Date', parse_dates=['Date'], date_parser=dateparse).fillna(0)\n",
    "\n",
    "#plot close price\n",
    "plt.figure(figsize=(10,6))\n",
    "plt.grid(True)\n",
    "plt.xlabel('Dates')\n",
    "plt.ylabel('Price')\n",
    "plt.plot(wti['Price'])\n",
    "plt.title('WTI stock')\n",
    "plt.show()"
   ]
  },
  {
   "cell_type": "markdown",
   "metadata": {},
   "source": [
    "### Compare changes WTI & AAL stock"
   ]
  },
  {
   "cell_type": "code",
   "execution_count": 18,
   "metadata": {
    "scrolled": true
   },
   "outputs": [
    {
     "data": {
      "image/png": "[encoded data removed]",
      "text/plain": [
       "<Figure size 720x432 with 1 Axes>"
      ]
     },
     "metadata": {},
     "output_type": "display_data"
    }
   ],
   "source": [
    "import matplotlib\n",
    "matplotlib.axes.Axes.boxplot\n",
    "matplotlib.pyplot.boxplot\n",
    "\n",
    "\n",
    "data1 = [wti['Price'], AAL_df['Close']]\n",
    "labels= ['WTI', 'AAL']\n",
    "fig7, ax7 = plt.subplots()\n",
    "ax7.set_title('Box plot WTI & AAL')\n",
    "ax7.boxplot(data1, labels=labels, patch_artist=True,  medianprops={'linewidth':3})\n",
    "plt.ylabel('Price')\n",
    "plt.show()\n"
   ]
  },
  {
   "cell_type": "markdown",
   "metadata": {},
   "source": [
    "##### עבור הנפט אני רואים שרוב הערכים נמצאים 30 ל55 כאשר הממוצע לאורך זמן הינו 50\n",
    "##### כאשר יש נפילה דרמטית עד לערכים מינימליים של 15\n",
    "##### עבור מחיר המנייה של חברת התעופה אנו רואים שהממוצע לאורך הזמן היה 30 ורוב הזמן זה נשאר כך\n",
    "##### אך בעקבות משבר הקורונה נהיו ערכים מינימליים שרחוקים  מאוד מהטווח- הנקודות\n"
   ]
  },
  {
   "cell_type": "code",
   "execution_count": 32,
   "metadata": {
    "scrolled": false
   },
   "outputs": [
    {
     "name": "stdout",
     "output_type": "stream",
     "text": [
      "root\n",
      " |-- Date: string (nullable = true)\n",
      " |-- Open: double (nullable = true)\n",
      " |-- High: double (nullable = true)\n",
      " |-- Low: double (nullable = true)\n",
      " |-- Close: double (nullable = true)\n",
      " |-- Adj Close: double (nullable = true)\n",
      " |-- Volume: integer (nullable = true)\n",
      "\n",
      "root\n",
      " |-- Date: string (nullable = true)\n",
      " |-- Price: double (nullable = true)\n",
      "\n",
      "+----------+---------+---------+---------+---------+---------+--------+-----+\n",
      "|      Date|     Open|     High|      Low|    Close|Adj Close|  Volume|Price|\n",
      "+----------+---------+---------+---------+---------+---------+--------+-----+\n",
      "|2020-01-02|    28.98|29.299999|    28.65|    29.09|28.982893| 6451100|61.17|\n",
      "|2020-01-03|    28.27|28.290001|    27.34|    27.65|27.548195|14008900| 63.0|\n",
      "|2020-01-06|27.190001|    27.49|    27.08|    27.32| 27.21941| 6105800|63.27|\n",
      "|2020-01-07|27.559999|    27.68|27.059999|27.219999|27.119778| 6105900| 62.7|\n",
      "|2020-01-08|     27.1|    28.09|    27.07|    27.84|27.737495|10496800|59.65|\n",
      "|2020-01-09|    28.09|    28.23|27.709999|27.950001|27.847092| 6898900|59.56|\n",
      "|2020-01-10|27.959999|    27.99|    27.25|    27.32| 27.21941| 8106800|59.02|\n",
      "|2020-01-13|    27.32|27.530001|    27.16|27.389999|27.289152| 5874400|58.17|\n",
      "|2020-01-14|    27.91|     28.4|    27.35|27.530001|27.428638| 8888900|58.34|\n",
      "|2020-01-15|27.450001|28.059999|    27.32|    27.58|27.478453| 5689900|57.86|\n",
      "|2020-01-16|27.790001|    28.26|    27.76|    28.23| 28.12606| 6442800|58.52|\n",
      "|2020-01-17|28.299999|28.719999|28.059999|     28.4|28.295433| 7379400|58.55|\n",
      "|2020-01-21|27.969999|    27.99|27.049999|27.200001|27.099854|16409400|58.25|\n",
      "|2020-01-22|    27.51|    27.91|27.299999|    27.32| 27.21941| 9852600|56.76|\n",
      "|2020-01-23|27.389999|    28.99|26.040001|28.799999| 28.69396|25611100|55.51|\n",
      "|2020-01-24|    28.85|28.860001|    27.01|27.639999|27.538231|18067800|54.09|\n",
      "|2020-01-27|    26.57|     26.6|25.370001|26.110001|26.013866|21573800|53.09|\n",
      "|2020-01-28|26.360001|27.120001|    26.26|     26.9|26.800957|11939200|53.33|\n",
      "|2020-01-29|26.879999|    27.49|    26.74|26.799999|26.701324| 9088700|53.29|\n",
      "|2020-01-30|26.299999|27.790001|    26.26|27.719999|27.617937|10685500|52.19|\n",
      "+----------+---------+---------+---------+---------+---------+--------+-----+\n",
      "only showing top 20 rows\n",
      "\n"
     ]
    }
   ],
   "source": [
    "# join dataframe by date\n",
    "\n",
    "all1= spark.read.csv('AAL.csv', inferSchema=True,header=True)\n",
    "all1.printSchema()\n",
    "wti1= spark.read.csv('wti_daily_2020.csv', inferSchema=True,header=True)\n",
    "wti1.printSchema()\n",
    "inner_join = all1.join(wti1, [\"Date\"])\n",
    "\n",
    "inner_join.show()"
   ]
  },
  {
   "cell_type": "code",
   "execution_count": 33,
   "metadata": {},
   "outputs": [],
   "source": [
    "# Save results\n",
    "\n",
    "#inner_join.write.option(\"header\", \"true\").csv('join_wti_AAL.csv')"
   ]
  },
  {
   "cell_type": "code",
   "execution_count": 34,
   "metadata": {},
   "outputs": [
    {
     "data": {
      "text/plain": [
       "Text(0, 0.5, 'ALL stock')"
      ]
     },
     "execution_count": 34,
     "metadata": {},
     "output_type": "execute_result"
    },
    {
     "data": {
      "image/png": "[encoded data removed]",
      "text/plain": [
       "<Figure size 720x432 with 1 Axes>"
      ]
     },
     "metadata": {},
     "output_type": "display_data"
    }
   ],
   "source": [
    "join_wti_AAL = pd.read_csv('join_wti_AAL.csv',sep=',', index_col='Date', parse_dates=['Date'], date_parser=dateparse).fillna(0)\n",
    "\n",
    "a =join_wti_AAL.plot.scatter(x='Price', y='Close', title= \"Scatter plot between two WTI prices & AAL stock\");\n",
    "a.set_xlabel('WTI price')\n",
    "a.set_ylabel('ALL stock')"
   ]
  },
  {
   "cell_type": "markdown",
   "metadata": {},
   "source": [
    "#### בדיקה לגבי אופן השינוי של המחירים בעקבות משבר הקורונה\n",
    "נראה שהייתה יציבות לפני שהקורונה החלה, הגוש הימיני העליון\n",
    "\n",
    "עם הזמן בחודשים האחרונים יש קריסה כללית בביקוש לנפט- \n",
    "רוב הטיסות בעולם מושבתות ולכן גם אין רווח מנסיגת מחיר הנפט"
   ]
  },
  {
   "cell_type": "code",
   "execution_count": 38,
   "metadata": {},
   "outputs": [],
   "source": [
    "from pyspark.sql.functions import corr"
   ]
  },
  {
   "cell_type": "code",
   "execution_count": 39,
   "metadata": {
    "scrolled": true
   },
   "outputs": [
    {
     "name": "stdout",
     "output_type": "stream",
     "text": [
      "+------------------+\n",
      "|corr(Price, Close)|\n",
      "+------------------+\n",
      "|0.9017850410477426|\n",
      "+------------------+\n",
      "\n"
     ]
    }
   ],
   "source": [
    "join_wti_AAL1= spark.read.csv('join_wti_AAL.csv', inferSchema=True,header=True)\n",
    "\n",
    "join_wti_AAL1.select(corr('Price', 'Close')).show()"
   ]
  },
  {
   "cell_type": "markdown",
   "metadata": {},
   "source": [
    " #### יש קורולוציה של 90% בין מחיר הנפט למניית אמריקן איירליינס"
   ]
  },
  {
   "cell_type": "code",
   "execution_count": 40,
   "metadata": {},
   "outputs": [
    {
     "name": "stdout",
     "output_type": "stream",
     "text": [
      "root\n",
      " |-- Date: string (nullable = true)\n",
      " |-- Open: double (nullable = true)\n",
      " |-- High: double (nullable = true)\n",
      " |-- Low: double (nullable = true)\n",
      " |-- Close: double (nullable = true)\n",
      " |-- Adj Close: double (nullable = true)\n",
      " |-- Volume: integer (nullable = true)\n",
      " |-- Price: double (nullable = true)\n",
      " |-- sum(cases): long (nullable = true)\n",
      " |-- sum(deaths): long (nullable = true)\n",
      "\n",
      "+----------+---------+---------+-----+---------+---------+---------+-----+----------+-----------+\n",
      "|      Date|     Open|     High|  Low|    Close|Adj Close|   Volume|Price|sum(cases)|sum(deaths)|\n",
      "+----------+---------+---------+-----+---------+---------+---------+-----+----------+-----------+\n",
      "|2020-04-01|    11.45|    11.48| 10.5|    10.69|    10.69| 56854400|20.28|     73512|       4614|\n",
      "|2020-03-31|     12.9|    12.96| 12.1|    12.19|    12.19| 44851400|20.51|     62443|       3697|\n",
      "|2020-03-30|     13.2|    13.22|11.81|    12.25|    12.25| 50516800| 14.1|     58487|       3125|\n",
      "|2020-03-27|    14.98|    15.22|13.91|    14.04|    14.04| 50783500|15.48|     59718|       2681|\n",
      "|2020-03-26|16.059999|    17.24|15.16|    15.66|    15.66| 77530600| 16.6|     51204|       2426|\n",
      "|2020-03-25|16.690001|    16.99|14.31|    15.39|    15.39| 93795100|20.75|     38927|       2200|\n",
      "|2020-03-24|    11.96|    14.81|11.54|    13.92|    13.92|101553100|21.03|     39785|       1764|\n",
      "|2020-03-23|     10.9|    11.36|10.01|    10.25|    10.25| 56427300|23.33|     33016|       1660|\n",
      "|2020-03-20|    10.65|     12.0| 10.3|    10.38|    10.38| 62681800|19.48|     29214|       1041|\n",
      "|2020-03-19|     11.6|    12.16|10.01|    10.29|    10.29| 71584500|25.09|     18314|        951|\n",
      "|2020-03-18|    14.24|    14.28|10.17|    11.65|    11.65| 78458800|20.48|     14740|        789|\n",
      "|2020-03-17|    15.79|    18.49|14.79|    15.58|    15.58| 58055800|26.96|     12678|        596|\n",
      "|2020-03-16|    12.41|16.200001| 12.0|    15.92|    15.92| 84916800|28.96|     12644|        745|\n",
      "|2020-03-13|     15.3|     15.6|13.12|    14.31|    14.31| 58376100|31.72|      8355|        351|\n",
      "|2020-03-12|    14.05|    15.75|13.33|    13.45|    13.45| 53968500|31.56|      6887|        326|\n",
      "|2020-03-11|16.309999|    16.49|15.52|    16.26|    16.26| 43705800|33.13|      4378|        269|\n",
      "|2020-03-10|    15.82|    17.67|14.61|     17.0|     17.0| 56972700|34.47|      4537|        209|\n",
      "|2020-03-09|    14.87|    15.79|14.46|    14.75|    14.75| 42558000|31.05|      3871|        229|\n",
      "|2020-03-06|    15.02|17.120001| 14.8|    15.97|    15.97| 54505000|41.14|      2856|        103|\n",
      "|2020-03-05|17.540001|    17.65|15.98|16.040001|16.040001| 44656800| 45.9|      2239|         80|\n",
      "+----------+---------+---------+-----+---------+---------+---------+-----+----------+-----------+\n",
      "only showing top 20 rows\n",
      "\n"
     ]
    }
   ],
   "source": [
    "# join dataframe by date\n",
    "\n",
    "inner_join1 = join_wti_AAL1.join(corona_daily, [\"Date\"])\n",
    "inner_join1= inner_join1.orderBy('Date', ascending=False)\n",
    "inner_join1.printSchema()\n",
    "inner_join1.show()"
   ]
  },
  {
   "cell_type": "markdown",
   "metadata": {},
   "source": [
    "### A negative correlation between WTI price to cases or deaths of Corona virus"
   ]
  },
  {
   "cell_type": "code",
   "execution_count": 41,
   "metadata": {},
   "outputs": [
    {
     "name": "stdout",
     "output_type": "stream",
     "text": [
      "+-----------------------+\n",
      "|corr(sum(cases), Price)|\n",
      "+-----------------------+\n",
      "|    -0.8124530272977009|\n",
      "+-----------------------+\n",
      "\n"
     ]
    }
   ],
   "source": [
    "inner_join1.select(corr('sum(cases)', 'Price')).show()"
   ]
  },
  {
   "cell_type": "code",
   "execution_count": 42,
   "metadata": {},
   "outputs": [
    {
     "name": "stdout",
     "output_type": "stream",
     "text": [
      "+------------------------+\n",
      "|corr(sum(deaths), Price)|\n",
      "+------------------------+\n",
      "|     -0.7789574976004678|\n",
      "+------------------------+\n",
      "\n"
     ]
    }
   ],
   "source": [
    "inner_join1.select(corr('sum(deaths)', 'Price')).show()"
   ]
  },
  {
   "cell_type": "markdown",
   "metadata": {},
   "source": [
    "### Linear Regression\n",
    "Runnig linear regression that shows prediction on oil prices by the data of cases and deaths of Corona virus and  American Airlines stock."
   ]
  },
  {
   "cell_type": "code",
   "execution_count": 43,
   "metadata": {},
   "outputs": [],
   "source": [
    "from pyspark.ml.regression import LinearRegression\n",
    "from pyspark.ml.linalg import Vectors\n",
    "from pyspark.ml.feature import VectorAssembler"
   ]
  },
  {
   "cell_type": "code",
   "execution_count": 44,
   "metadata": {},
   "outputs": [
    {
     "data": {
      "text/plain": [
       "Row(Date='2020-04-01', Open=11.45, High=11.48, Low=10.5, Close=10.69, Adj Close=10.69, Volume=56854400, Price=20.28, sum(cases)=73512, sum(deaths)=4614)"
      ]
     },
     "execution_count": 44,
     "metadata": {},
     "output_type": "execute_result"
    }
   ],
   "source": [
    "inner_join1.head(1)[0]"
   ]
  },
  {
   "cell_type": "code",
   "execution_count": 45,
   "metadata": {},
   "outputs": [],
   "source": [
    "assembler = VectorAssembler(inputCols=['Close','sum(cases)', 'sum(deaths)'],\n",
    "                           outputCol='features')\n",
    "output= assembler.transform(inner_join1)"
   ]
  },
  {
   "cell_type": "code",
   "execution_count": 46,
   "metadata": {},
   "outputs": [
    {
     "data": {
      "text/plain": [
       "[Row(Date='2020-04-01', Open=11.45, High=11.48, Low=10.5, Close=10.69, Adj Close=10.69, Volume=56854400, Price=20.28, sum(cases)=73512, sum(deaths)=4614, features=DenseVector([10.69, 73512.0, 4614.0]))]"
      ]
     },
     "execution_count": 46,
     "metadata": {},
     "output_type": "execute_result"
    }
   ],
   "source": [
    "# new column 'features' - Vector of the input values\n",
    "output.head(1)"
   ]
  },
  {
   "cell_type": "code",
   "execution_count": 47,
   "metadata": {},
   "outputs": [],
   "source": [
    "final_data = output.select('features', 'Price')\n",
    "#final_data.show()"
   ]
  },
  {
   "cell_type": "code",
   "execution_count": 48,
   "metadata": {},
   "outputs": [],
   "source": [
    "train_data,test_data = final_data.randomSplit([0.7,0.3])"
   ]
  },
  {
   "cell_type": "code",
   "execution_count": 49,
   "metadata": {},
   "outputs": [
    {
     "name": "stdout",
     "output_type": "stream",
     "text": [
      "+-------+------------------+\n",
      "|summary|             Price|\n",
      "+-------+------------------+\n",
      "|  count|                50|\n",
      "|   mean| 47.14239999999998|\n",
      "| stddev|13.031919300435415|\n",
      "|    min|              16.6|\n",
      "|    max|             63.27|\n",
      "+-------+------------------+\n",
      "\n"
     ]
    }
   ],
   "source": [
    "train_data.describe().show()"
   ]
  },
  {
   "cell_type": "code",
   "execution_count": 50,
   "metadata": {},
   "outputs": [
    {
     "name": "stdout",
     "output_type": "stream",
     "text": [
      "+-------+------------------+\n",
      "|summary|             Price|\n",
      "+-------+------------------+\n",
      "|  count|                13|\n",
      "|   mean|36.456923076923076|\n",
      "| stddev|16.455277970211352|\n",
      "|    min|              14.1|\n",
      "|    max|             58.52|\n",
      "+-------+------------------+\n",
      "\n"
     ]
    }
   ],
   "source": [
    "test_data.describe().show()"
   ]
  },
  {
   "cell_type": "code",
   "execution_count": 51,
   "metadata": {},
   "outputs": [],
   "source": [
    "lr= LinearRegression(labelCol= 'Price')"
   ]
  },
  {
   "cell_type": "code",
   "execution_count": 52,
   "metadata": {},
   "outputs": [],
   "source": [
    "lr_model= lr.fit(train_data)"
   ]
  },
  {
   "cell_type": "code",
   "execution_count": 53,
   "metadata": {},
   "outputs": [],
   "source": [
    "test_results = lr_model.evaluate(test_data)"
   ]
  },
  {
   "cell_type": "code",
   "execution_count": 54,
   "metadata": {},
   "outputs": [
    {
     "name": "stdout",
     "output_type": "stream",
     "text": [
      "+-------------------+\n",
      "|          residuals|\n",
      "+-------------------+\n",
      "|   7.00384346259494|\n",
      "| 0.5867244027089544|\n",
      "|   5.54409901716436|\n",
      "|-5.4673917247534725|\n",
      "|  4.156152899282162|\n",
      "|-2.0660994882826174|\n",
      "|  -6.12195546091305|\n",
      "|-1.7772596751864569|\n",
      "| 4.1633775152216685|\n",
      "| -2.748830993820249|\n",
      "|-2.8382739514720186|\n",
      "|-2.2511711946862647|\n",
      "|   2.15026411510096|\n",
      "+-------------------+\n",
      "\n"
     ]
    }
   ],
   "source": [
    "test_results.residuals.show()"
   ]
  },
  {
   "cell_type": "code",
   "execution_count": 55,
   "metadata": {},
   "outputs": [
    {
     "data": {
      "text/plain": [
       "4.06527348210855"
      ]
     },
     "execution_count": 55,
     "metadata": {},
     "output_type": "execute_result"
    }
   ],
   "source": [
    "test_results.rootMeanSquaredError"
   ]
  },
  {
   "cell_type": "code",
   "execution_count": 56,
   "metadata": {},
   "outputs": [
    {
     "data": {
      "text/plain": [
       "0.933880251274509"
      ]
     },
     "execution_count": 56,
     "metadata": {},
     "output_type": "execute_result"
    }
   ],
   "source": [
    "test_results.r2"
   ]
  },
  {
   "cell_type": "markdown",
   "metadata": {},
   "source": [
    "This model explains 93 percent of the variance in the data"
   ]
  },
  {
   "cell_type": "code",
   "execution_count": 57,
   "metadata": {},
   "outputs": [
    {
     "name": "stdout",
     "output_type": "stream",
     "text": [
      "+-------+------------------+\n",
      "|summary|             Price|\n",
      "+-------+------------------+\n",
      "|  count|                63|\n",
      "|   mean|44.937460317460314|\n",
      "| stddev|14.339810810855973|\n",
      "|    min|              14.1|\n",
      "|    max|             63.27|\n",
      "+-------+------------------+\n",
      "\n"
     ]
    }
   ],
   "source": [
    "final_data.describe().show()"
   ]
  },
  {
   "cell_type": "code",
   "execution_count": 58,
   "metadata": {},
   "outputs": [],
   "source": [
    "unlabled_data = test_data.select('features')"
   ]
  },
  {
   "cell_type": "code",
   "execution_count": 59,
   "metadata": {},
   "outputs": [
    {
     "name": "stdout",
     "output_type": "stream",
     "text": [
      "+--------------------+\n",
      "|            features|\n",
      "+--------------------+\n",
      "|[10.69,73512.0,46...|\n",
      "|[12.25,58487.0,31...|\n",
      "|[14.04,59718.0,26...|\n",
      "|[15.39,38927.0,22...|\n",
      "|[10.25,33016.0,16...|\n",
      "|[14.31,8355.0,351.0]|\n",
      "|[16.26,4378.0,269.0]|\n",
      "|[29.200001,4215.0...|\n",
      "|[30.09,15151.0,25...|\n",
      "|[28.299999,3751.0...|\n",
      "| [27.16,2818.0,57.0]|\n",
      "|[27.719999,1756.0...|\n",
      "|     [28.23,0.0,0.0]|\n",
      "+--------------------+\n",
      "\n"
     ]
    }
   ],
   "source": [
    "unlabled_data.show()"
   ]
  },
  {
   "cell_type": "code",
   "execution_count": 60,
   "metadata": {},
   "outputs": [],
   "source": [
    "predictions = lr_model.transform(unlabled_data)"
   ]
  },
  {
   "cell_type": "code",
   "execution_count": 61,
   "metadata": {},
   "outputs": [
    {
     "name": "stdout",
     "output_type": "stream",
     "text": [
      "+--------------------+------------------+\n",
      "|            features|        prediction|\n",
      "+--------------------+------------------+\n",
      "|[10.69,73512.0,46...|13.276156537405061|\n",
      "|[12.25,58487.0,31...|13.513275597291045|\n",
      "|[14.04,59718.0,26...|  9.93590098283564|\n",
      "|[15.39,38927.0,22...|26.217391724753472|\n",
      "|[10.25,33016.0,16...|19.173847100717836|\n",
      "|[14.31,8355.0,351.0]|33.786099488282616|\n",
      "|[16.26,4378.0,269.0]| 39.25195546091305|\n",
      "|[29.200001,4215.0...| 53.80725967518646|\n",
      "|[30.09,15151.0,25...| 47.24662248477833|\n",
      "|[28.299999,3751.0...| 53.68883099382025|\n",
      "| [27.16,2818.0,57.0]| 52.89827395147202|\n",
      "|[27.719999,1756.0...| 54.44117119468626|\n",
      "|     [28.23,0.0,0.0]| 56.36973588489904|\n",
      "+--------------------+------------------+\n",
      "\n"
     ]
    }
   ],
   "source": [
    "predictions.show()"
   ]
  },
  {
   "cell_type": "code",
   "execution_count": null,
   "metadata": {},
   "outputs": [],
   "source": []
  },
  {
   "cell_type": "code",
   "execution_count": null,
   "metadata": {},
   "outputs": [],
   "source": []
  }
 ],
 "metadata": {
  "kernelspec": {
   "display_name": "Python 3",
   "language": "python",
   "name": "python3"
  },
  "language_info": {
   "codemirror_mode": {
    "name": "ipython",
    "version": 3
   },
   "file_extension": ".py",
   "mimetype": "text/x-python",
   "name": "python",
   "nbconvert_exporter": "python",
   "pygments_lexer": "ipython3",
   "version": "3.6.9"
  }
 },
 "nbformat": 4,
 "nbformat_minor": 4
}
